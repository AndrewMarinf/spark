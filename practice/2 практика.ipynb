{
 "cells": [
  {
   "cell_type": "code",
   "execution_count": null,
   "id": "a4960a79-ac17-40fd-8905-18f10a8845c7",
   "metadata": {},
   "outputs": [],
   "source": [
    "# Задача. Сделать пайплайн обработки файла cars.csv.\n",
    "\n",
    "# Необходимо посчитать по каждому производителю (поле manufacturer_name):\n",
    "\n",
    "# кол-во объявлений\n",
    "# средний год выпуска автомобилей\n",
    "# минимальную цену\n",
    "# максимальную цену\n",
    "# Выгрузить результат в output.csv."
   ]
  },
  {
   "cell_type": "code",
   "execution_count": 13,
   "id": "f115915d-bfdc-4fa8-b4e3-fd5ec76ba35b",
   "metadata": {},
   "outputs": [],
   "source": [
    "from pyspark.sql import SparkSession, DataFrame\n",
    "import pyspark.sql.functions as F\n",
    "import pyspark.sql.types as t\n",
    "\n",
    "def main():\n",
    "    spark = SparkSession.builder.getOrCreate()\n",
    "    # тут читаем данные\n",
    "    df = spark.read.format(\"csv\").option(\"header\", \"true\").load(\"cars.csv\")\n",
    "    # df.show(5) # проверка что все читает\n",
    "\n",
    "    output = (\n",
    "        df\n",
    "        .groupBy(\"manufacturer_name\")\n",
    "        .agg(\n",
    "            F.count(\"manufacturer_name\").alias(\"count_ads\"),\n",
    "            F.round(F.avg(\"year_produced\")).cast(t.IntegerType()).alias(\"avg_year_produced\"),\n",
    "            F.min(F.col(\"price_usd\").cast(t.FloatType())).alias(\"min_price\"),\n",
    "             F.min(F.col(\"price_usd\").cast(t.FloatType()))\n",
    "        )       \n",
    "    )\n",
    "    # output.show(6) #проверка что происходит агригации\n",
    "    # тут записыываем в файлик\n",
    "    df.coalesce(4).write.mode(\"overwrite\").format(\"json\").save(\"output.json\")\n",
    "\n",
    "main()"
   ]
  },
  {
   "cell_type": "markdown",
   "id": "e9d533a8-615c-47f3-a06d-5f174a4c1eff",
   "metadata": {},
   "source": []
  }
 ],
 "metadata": {
  "kernelspec": {
   "display_name": "Python 3 (ipykernel)",
   "language": "python",
   "name": "python3"
  },
  "language_info": {
   "codemirror_mode": {
    "name": "ipython",
    "version": 3
   },
   "file_extension": ".py",
   "mimetype": "text/x-python",
   "name": "python",
   "nbconvert_exporter": "python",
   "pygments_lexer": "ipython3",
   "version": "3.11.6"
  }
 },
 "nbformat": 4,
 "nbformat_minor": 5
}
